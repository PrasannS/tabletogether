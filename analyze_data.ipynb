{
 "cells": [
  {
   "cell_type": "code",
   "execution_count": 2,
   "id": "072712a1",
   "metadata": {},
   "outputs": [],
   "source": [
    "import pandas as pd\n",
    "import matplotlib.pyplot as plt\n",
    "from scipy import stats"
   ]
  },
  {
   "cell_type": "code",
   "execution_count": 3,
   "id": "68eaa4c1",
   "metadata": {},
   "outputs": [],
   "source": [
    "data = pd.read_csv('hcirawdata.csv')"
   ]
  },
  {
   "cell_type": "code",
   "execution_count": 4,
   "id": "eb54ba23",
   "metadata": {},
   "outputs": [
    {
     "data": {
      "text/plain": [
       "Index(['Interface', 'Subject', 'Time 1', 'Time 2', 'Err 1 ', 'Err 2',\n",
       "       'Recipes'],\n",
       "      dtype='object')"
      ]
     },
     "execution_count": 4,
     "metadata": {},
     "output_type": "execute_result"
    }
   ],
   "source": [
    "data.columns"
   ]
  },
  {
   "cell_type": "code",
   "execution_count": 5,
   "id": "ee8d8952",
   "metadata": {},
   "outputs": [],
   "source": [
    "data['timeavg'] = data.apply(lambda x: (x['Time 1'] + x['Time 2'] ) / 2, axis=1)\n",
    "data['erravg'] = data.apply(lambda x: (x['Err 1 '] + x['Err 2'] ) / 2, axis=1)"
   ]
  },
  {
   "cell_type": "code",
   "execution_count": 6,
   "id": "70322ac9",
   "metadata": {},
   "outputs": [],
   "source": [
    "# histogram showing timeavg of cases when Interface==\"Structured\" vs \"Free-form\" (differet colors with alpha)\n",
    "structured = data[data['Interface'] == 'Structured']\n",
    "freeform = data[data['Interface'] == 'Free-form']"
   ]
  },
  {
   "cell_type": "code",
   "execution_count": 15,
   "id": "1e318f5b",
   "metadata": {},
   "outputs": [
    {
     "data": {
      "image/png": "[encoded data removed]",
      "text/plain": [
       "<Figure size 640x480 with 1 Axes>"
      ]
     },
     "metadata": {},
     "output_type": "display_data"
    }
   ],
   "source": [
    "col = 'Err 2'\n",
    "coltotitle = {\n",
    "    'timeavg': 'Average Time',\n",
    "    'erravg': 'Average Error',\n",
    "    'Time 1': 'Time 1',\n",
    "    'Time 2': 'Time 2',\n",
    "    'Err 1 ': 'Error 1',\n",
    "    'Err 2': 'Error 2'\n",
    "}\n",
    "plt.hist(structured[col], bins=20, alpha=0.5, label='Structured')\n",
    "plt.hist(freeform[col], bins=20, alpha=0.5, label='Free-form')\n",
    "plt.xlabel(coltotitle[col])\n",
    "plt.ylabel('Frequency')\n",
    "plt.title('Histogram of '+coltotitle[col]+' by Interface Type')\n",
    "plt.legend(loc='upper right')\n",
    "plt.show()"
   ]
  },
  {
   "cell_type": "code",
   "execution_count": 8,
   "id": "0dd5be4e",
   "metadata": {},
   "outputs": [
    {
     "name": "stdout",
     "output_type": "stream",
     "text": [
      "T-statistic: 6.542927744099262, P-value: 3.0901434314536665e-07\n",
      "Reject the null hypothesis: there is a significant difference between the two groups.\n"
     ]
    }
   ],
   "source": [
    "# given 2 columns of data, figure out if there's a statistically significant difference between them\n",
    "def t_test(data1, data2):\n",
    "    t_stat, p_value = stats.ttest_ind(data1, data2)\n",
    "    print(f'T-statistic: {t_stat}, P-value: {p_value}')\n",
    "    if p_value < 0.05:\n",
    "        print(\"Reject the null hypothesis: there is a significant difference between the two groups.\")\n",
    "    else:\n",
    "        print(\"Fail to reject the null hypothesis: there is no significant difference between the two groups.\")\n",
    "# t-test between structured and freeform\n",
    "col = 'timeavg'\n",
    "t_test(structured[col], freeform[col])"
   ]
  },
  {
   "cell_type": "code",
   "execution_count": null,
   "id": "10e1dee7",
   "metadata": {},
   "outputs": [],
   "source": []
  }
 ],
 "metadata": {
  "kernelspec": {
   "display_name": "scrapeenv",
   "language": "python",
   "name": "python3"
  },
  "language_info": {
   "codemirror_mode": {
    "name": "ipython",
    "version": 3
   },
   "file_extension": ".py",
   "mimetype": "text/x-python",
   "name": "python",
   "nbconvert_exporter": "python",
   "pygments_lexer": "ipython3",
   "version": "undefined.undefined.undefined"
  }
 },
 "nbformat": 4,
 "nbformat_minor": 5
}
